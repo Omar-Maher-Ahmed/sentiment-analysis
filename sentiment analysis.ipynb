from transformers import pipeline
import tkinter as tk
from tkinter import messagebox, font

# Initialize BERT-based sentiment analysis pipeline
sentiment_analyzer = pipeline("sentiment-analysis")

# Function to analyze the input review text and display the result
def analyze_review():
    # Get the review text entered by the user
    review_text = text_input.get("1.0", tk.END).strip()

    if review_text:
        # Perform sentiment analysis
        result = sentiment_analyzer(review_text)[0]
        sentiment = result['label']
        score = result['score']

        # Update and style result label based on sentiment
        if sentiment == "POSITIVE":
            result_text.set(f"😊 Positive: {score:.2%}")
            result_label.config(fg="green", bg="#e6ffe6")
        elif sentiment == "NEGATIVE":
            result_text.set(f"😞 Negative: {score:.2%}")
            result_label.config(fg="red", bg="#ffe6e6")
        else:
            result_text.set(f"🤔 Unknown: {score:.2%}")
            result_label.config(fg="gray", bg="#f2f2f2")
    else:
        # Show an error message if the input is empty
        result_text.set("Please enter text for analysis.")
        result_label.config(fg="darkred", bg="#ffe6e6")
